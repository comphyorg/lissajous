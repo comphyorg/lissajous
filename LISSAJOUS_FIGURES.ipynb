{
 "cells": [
  {
   "cell_type": "markdown",
   "metadata": {},
   "source": [
    "# <center> Lissajous figures </center>\n",
    "\n",
    "One of the fascinating stuff that we encounter in waves and oscillation class is Lissajous figure. we encounter them when we observe the resultant of two perpendicular oscillation of different frequencies. There are mathematical as well as graphical method to construct them. But here I will just plot the resultant motion with some sliders\n",
    "\n",
    "we can write two oscillations as $$ x = A_1cos(w_1 t)$$ $$y = A_2cos(w_2t +\\delta)$$\n",
    "\n",
    "for convenience i will take $A_1 = A_2 = 1$\n",
    "\n",
    "Let's get started"
   ]
  },

  {
   "cell_type": "code",
   "execution_count": 28,
   "metadata": {
    "scrolled": false
   },
   "outputs": [
    {
     "data": {
      "application/vnd.jupyter.widget-view+json": {
       "model_id": "c1601efe13af4b15a43bb7e95f37950f",
       "version_major": 2,
       "version_minor": 0
      },
      "text/plain": [
       "VBox(children=(Figure(animation_duration=1500, axes=[Axis(scale=LinearScale()), Axis(orientation='vertical', s…"
      ]
     },
     "metadata": {},
     "output_type": "display_data"
    },
    {
     "data": {
      "application/vnd.jupyter.widget-view+json": {
       "model_id": "bab75d4c312344c7be445135249185c3",
       "version_major": 2,
       "version_minor": 0
      },
      "text/plain": [
       "interactive(children=(IntSlider(value=1, description='w1', layout=Layout(width='700px'), max=12, min=1), IntSl…"
      ]
     },
     "metadata": {},
     "output_type": "display_data"
    }
   ],
   "source": [
    "import numpy as np\n",
    "import bqplot .pyplot as plt\n",
    "from ipywidgets import*\n",
    "t = np.linspace(0,2*np.pi,200) ## we deal with one fi\n",
    "fig = plt.figure(animation_duration = 1500,layout ={'width':'800px','height':'600px'} )\n",
    "plt.clear()\n",
    "plot =plt.plot(t,t)\n",
    "plt.show()\n",
    "def F_main(w1,w2,delta):\n",
    "    x = np.cos(w1*t)\n",
    "    y = np.cos(w2*t+delta)\n",
    "    \n",
    "    plot.x = x\n",
    "    plot.y = y\n",
    "interactive(F_main,w1 = IntSlider(value = 1,max = 12,min = 1,layout = {'width':'700px'}),\n",
    "            w2 = IntSlider(value = 1,max = 12,min = 1,layout = {'width':'700px'}),\n",
    "            delta =SelectionSlider( options=[('0', 0), ('pi/4', np.pi/4.),\n",
    "                                                         ('pi/2', np.pi/2.),('3*pi/4', (3*np.pi)/4.),('pi', np.pi),\n",
    "                                                        ('5*pi/4', (5*np.pi)/4.),('3pi/2', (3*np.pi)/2.),('7*pi/4',\n",
    "                                                        (7*np.pi)/4.),('2$\\pi$',2*np.pi)],\n",
    "                                                         value=np.pi/4,description='Phase',layout = {'width':'700px'})\n",
    ")\n",
    "    "
   ]
  }
 ],
 "metadata": {
  "kernelspec": {
   "display_name": "Python 3",
   "language": "python",
   "name": "python3"
  },
  "language_info": {
   "codemirror_mode": {
    "name": "ipython",
    "version": 3
   },
   "file_extension": ".py",
   "mimetype": "text/x-python",
   "name": "python",
   "nbconvert_exporter": "python",
   "pygments_lexer": "ipython3",
   "version": "3.8.3"
  },
  "latex_envs": {
   "LaTeX_envs_menu_present": true,
   "autoclose": false,
   "autocomplete": false,
   "bibliofile": "biblio.bib",
   "cite_by": "apalike",
   "current_citInitial": 1,
   "eqLabelWithNumbers": true,
   "eqNumInitial": 1,
   "hotkeys": {
    "equation": "Ctrl-E",
    "itemize": "Ctrl-I"
   },
   "labels_anchors": false,
   "latex_user_defs": false,
   "report_style_numbering": false,
   "user_envs_cfg": false
  }
 },
 "nbformat": 4,
 "nbformat_minor": 4
}
